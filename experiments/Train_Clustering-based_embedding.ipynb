{
 "cells": [
  {
   "cell_type": "markdown",
   "id": "0b4afb4f-29bd-4eb5-a4f2-69b53c99e78d",
   "metadata": {},
   "source": [
    "# Train clustering-based embedding"
   ]
  },
  {
   "cell_type": "markdown",
   "id": "637dae14-900b-4886-be3e-78482dd21a75",
   "metadata": {},
   "source": [
    "1. Compute the clustering of the geographic-based embedding, $f^g$\n",
    "2. Sample a new triplets according to the clustering\n",
    "3. Train the clustering-based embedding"
   ]
  },
  {
   "cell_type": "markdown",
   "id": "abfab25c-1983-4a6a-b761-a790cb4bbda2",
   "metadata": {},
   "source": [
    "## Load Libraries, set paths and parameters"
   ]
  },
  {
   "cell_type": "code",
   "execution_count": 2,
   "id": "6b31597f-6076-4ab9-aa6a-0594f37f2385",
   "metadata": {},
   "outputs": [],
   "source": [
    "import sys\n",
    "import os\n",
    "import torch\n",
    "from torch import optim\n",
    "from time import time\n",
    "import numpy as np\n",
    "sys.path.append('../')\n",
    "from src.datasets import TileTripletsDataset, GetBands, RandomFlipAndRotate, ClipAndScale, ToFloatTensor, triplet_dataloader\n",
    "from src.tilenet import make_tilenet\n",
    "from src.training import prep_triplets, train_triplet_epoch\n",
    "from src.aux_functions import *\n",
    "\n",
    "from torch.autograd import Variable\n",
    "import tslearn\n",
    "from tslearn.clustering import TimeSeriesKMeans\n",
    "\n",
    "import shutil\n",
    "from sklearn.decomposition import PCA"
   ]
  },
  {
   "cell_type": "code",
   "execution_count": 3,
   "id": "63dc147a-c4a6-4f55-911c-4387505fd51b",
   "metadata": {},
   "outputs": [],
   "source": [
    "# Directory with the MTS\n",
    "area = 'NE-TXN'\n",
    "mts_dir = os.path.join('../data', area, 'MTS')\n",
    "\n",
    "# Directory where the sequences of tiles have been saved\n",
    "tile_dir = '../data/NE-TXN/tiles' # by default\n",
    "\n",
    "# Directory to save the clustering-based triplets\n",
    "triplets_dir = '../data/NE-TXN/triplets_clustering'\n",
    "if not os.path.exists(triplets_dir):\n",
    "    os.makedirs(triplets_dir)\n",
    "\n",
    "# Parameters\n",
    "n_samples = 110*110\n",
    "n_elems = 3\n",
    "num_triplets= 100\n",
    "z_dim = 512\n",
    "in_channels = 3\n",
    "lr = 1e-3"
   ]
  },
  {
   "cell_type": "markdown",
   "id": "45a739a6-c7ab-43d5-9d2d-2087a84581d1",
   "metadata": {},
   "source": [
    "## Geographic-based embeddeding $f^g$ and clustering $\\mathcal{P}^g$"
   ]
  },
  {
   "cell_type": "markdown",
   "id": "07a6a8c1-55f1-4385-aa96-5c63ce3acfb8",
   "metadata": {},
   "source": [
    "Load geographic-based embedded sequences of tiles in the np array X of dimensions (n_samples, n_elems, z_dim)"
   ]
  },
  {
   "cell_type": "code",
   "execution_count": 4,
   "id": "c7aca8a1-3c0c-41e6-96df-b311d984a3d6",
   "metadata": {},
   "outputs": [],
   "source": [
    "X = np.load(mts_dir + '/X_epoch50_512_100_100K_NE-TXN.npy')"
   ]
  },
  {
   "cell_type": "code",
   "execution_count": 5,
   "id": "6b1186a5-82ac-49f9-bead-1f47323289bb",
   "metadata": {},
   "outputs": [],
   "source": [
    "Dist_mat_fg = np.load('distances_NE-TXN.npy')"
   ]
  },
  {
   "cell_type": "markdown",
   "id": "d15c6219-0e64-453e-986b-4c410cbcbd62",
   "metadata": {},
   "source": [
    "Run the K-means algorithm over the MTS encoded with $f^g$"
   ]
  },
  {
   "cell_type": "code",
   "execution_count": 6,
   "id": "b02ed986-86b9-44d0-af25-dea7e30d48c9",
   "metadata": {},
   "outputs": [],
   "source": [
    "n_clus = 5\n",
    "ts_clustering_fg = TimeSeriesKMeans(n_clusters=n_clus, metric=\"euclidean\", n_init=10, max_iter_barycenter=5).fit(X)\n",
    "ts_clusters_fg = ts_clustering_fg.labels_\n",
    "ts_centroids_fg = ts_clustering_fg.cluster_centers_"
   ]
  },
  {
   "cell_type": "markdown",
   "id": "88e3ec7b-f407-4bd5-8527-210451d66268",
   "metadata": {},
   "source": [
    "## Generate new data set of triplets"
   ]
  },
  {
   "cell_type": "markdown",
   "id": "f387d815-c3c3-4e67-a85f-f20b869e2544",
   "metadata": {},
   "source": [
    "Generate triplets according to the neighborhood given by the clustering of MTS. The neighbor tile belongs to the same cluster as the anchor while the distant tile belongs to a different cluster."
   ]
  },
  {
   "cell_type": "code",
   "execution_count": 12,
   "id": "0ccdb002-8cf4-43fd-b913-53a1c1ac7e79",
   "metadata": {},
   "outputs": [],
   "source": [
    "for t in range(n_elems):\n",
    "    # Generate triplets according to the clustering\n",
    "    new_triplets= generateTriplets(list(ts_clusters_fg), numTriplets=num_triplets)\n",
    "    for j in range(num_triplets):\n",
    "        x_a = new_triplets[j][0]\n",
    "        x_n = new_triplets[j][1]\n",
    "        x_d = new_triplets[j][2]\n",
    "        # Select the tiles of the triplet according to the time and number\n",
    "        tile_a = os.path.join(tile_dir, '{sample}tile_T{t}.npy'.format(sample=x_a, t=t))\n",
    "        tile_n = os.path.join(tile_dir, '{sample}tile_T{t}.npy'.format(sample=x_n, t=t))\n",
    "        tile_d = os.path.join(tile_dir, '{sample}tile_T{t}.npy'.format(sample=x_d, t=t))\n",
    "        # Save the tiles according to the triplet\n",
    "        tile_a_dest= os.path.join(triplets_dir, '{}anchor.npy'.format(j + num_triplets*t))\n",
    "        tile_n_dest= os.path.join(triplets_dir, '{}neighbor.npy'.format(j + t*num_triplets))\n",
    "        tile_d_dest= os.path.join(triplets_dir, '{}distant.npy'.format(j + t*num_triplets))\n",
    "        \n",
    "        shutil.copy(tile_a, tile_a_dest)\n",
    "        shutil.copy(tile_n, tile_n_dest)\n",
    "        shutil.copy(tile_d, tile_d_dest)"
   ]
  },
  {
   "cell_type": "code",
   "execution_count": 15,
   "id": "e9e4ecfd-c59f-4fda-8cab-6df47850afd8",
   "metadata": {},
   "outputs": [
    {
     "data": {
      "text/plain": [
       "[(3781, 4726, 2386),\n",
       " (4939, 6011, 224),\n",
       " (5127, 6246, 8892),\n",
       " (5719, 4806, 9567),\n",
       " (7583, 5114, 308)]"
      ]
     },
     "execution_count": 15,
     "metadata": {},
     "output_type": "execute_result"
    }
   ],
   "source": [
    "new_triplets[:5]"
   ]
  },
  {
   "cell_type": "markdown",
   "id": "29f45243-2f83-4585-9e48-dd42809d7064",
   "metadata": {},
   "source": [
    "## Train the clustering-based embedding $f^c$"
   ]
  },
  {
   "cell_type": "markdown",
   "id": "7925f3af-ef3e-4ad0-9e74-69aad814f215",
   "metadata": {},
   "source": [
    "### Load the geographic-based embedding"
   ]
  },
  {
   "cell_type": "code",
   "execution_count": null,
   "id": "5436172c-0f2c-4f66-890c-973b62c5c8a1",
   "metadata": {},
   "outputs": [],
   "source": [
    "# Initialize model\n",
    "TileNet = make_tilenet(in_channels=in_channels, z_dim=z_dim)\n",
    "# Load previous model parameters\n",
    "checkpoint = torch.load('../models/TileNet_epoch50_512_100_100K_sentinel.ckpt')\n",
    "TileNet.load_state_dict(checkpoint)\n",
    "optimizer = optim.Adam(TileNet.parameters(), lr=lr, betas=(0.5, 0.999))\n",
    "TileNet.train()"
   ]
  },
  {
   "cell_type": "markdown",
   "id": "d130c6c4-feaa-4f78-bb7b-25d69e32042e",
   "metadata": {},
   "source": [
    "### Parameters for the training"
   ]
  },
  {
   "cell_type": "code",
   "execution_count": 20,
   "id": "b47959f2-9183-4f9c-a6db-8f71a62b16d6",
   "metadata": {},
   "outputs": [],
   "source": [
    "# Environment stuff\n",
    "os.environ['CUDA_VISIBLE_DEVICES'] = '0'\n",
    "cuda = torch.cuda.is_available()"
   ]
  },
  {
   "cell_type": "code",
   "execution_count": 46,
   "id": "d1873ffd-63c0-44f1-b34c-db76e980fc04",
   "metadata": {},
   "outputs": [],
   "source": [
    "img_type = 'rgb'\n",
    "bands = 3\n",
    "augment = True\n",
    "batch_size = 50\n",
    "shuffle = True\n",
    "num_workers = 8\n",
    "n_triplets = num_triplets*n_elems\n",
    "epochs = 5\n",
    "margin = 50\n",
    "l2 = 0.01\n",
    "print_every = 50\n",
    "save_models = True"
   ]
  },
  {
   "cell_type": "code",
   "execution_count": 47,
   "id": "54acb27c-8156-4c6f-9806-1c984ab6369f",
   "metadata": {},
   "outputs": [
    {
     "name": "stdout",
     "output_type": "stream",
     "text": [
      "Dataloader set up complete.\n"
     ]
    }
   ],
   "source": [
    "dataloader = triplet_dataloader(img_type, triplets_dir, bands=bands, augment=augment,\n",
    "                                batch_size=batch_size, shuffle=shuffle, num_workers=num_workers, \n",
    "                                n_triplets=n_triplets, pairs_only=True)\n",
    "print('Dataloader set up complete.')"
   ]
  },
  {
   "cell_type": "code",
   "execution_count": 48,
   "id": "afc96479-e9c8-4f61-820a-dc963481922c",
   "metadata": {},
   "outputs": [],
   "source": [
    "# Directory to save the model\n",
    "results_fn = os.path.join('../models/results_fn')"
   ]
  },
  {
   "cell_type": "markdown",
   "id": "51244462-0f6b-401d-893f-e903dc60545b",
   "metadata": {},
   "source": [
    "### Training"
   ]
  },
  {
   "cell_type": "code",
   "execution_count": null,
   "id": "4bec9d7b-dbaa-4d05-a29e-40555b0f3ac9",
   "metadata": {},
   "outputs": [],
   "source": [
    "t0 = time()\n",
    "with open(results_fn, 'w') as file:\n",
    "\n",
    "    print('Begin training.................')\n",
    "    for epoch in range(0, epochs):\n",
    "        (avg_loss, avg_l_n, avg_l_d, avg_l_nd) = train_triplet_epoch(\n",
    "            TileNet, cuda, dataloader, optimizer, epoch+1, margin=margin, l2=l2,\n",
    "            print_every=print_every, t0=t0)"
   ]
  },
  {
   "cell_type": "code",
   "execution_count": 50,
   "id": "f98db163-d016-4a68-8cdb-099ec7edd907",
   "metadata": {},
   "outputs": [],
   "source": [
    "# Save model after last epoch\n",
    "torch.save(TileNet.state_dict(), '../models/TileNet_clustering-based.ckpt')"
   ]
  }
 ],
 "metadata": {
  "kernelspec": {
   "display_name": "Python 3 (ipykernel)",
   "language": "python",
   "name": "python3"
  },
  "language_info": {
   "codemirror_mode": {
    "name": "ipython",
    "version": 3
   },
   "file_extension": ".py",
   "mimetype": "text/x-python",
   "name": "python",
   "nbconvert_exporter": "python",
   "pygments_lexer": "ipython3",
   "version": "3.10.12"
  }
 },
 "nbformat": 4,
 "nbformat_minor": 5
}
